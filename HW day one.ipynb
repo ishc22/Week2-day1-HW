{
 "cells": [
  {
   "cell_type": "code",
   "execution_count": null,
   "id": "5de4ac41",
   "metadata": {},
   "outputs": [],
   "source": [
    "number_ls = list(range(12))\n",
    "for num in number_ls:\n",
    "    if num**3 > 1000:\n",
    "        break\n",
    "    else:\n",
    "        print(num, num**3)\n"
   ]
  },
  {
   "cell_type": "code",
   "execution_count": 3,
   "id": "d7da4ab2",
   "metadata": {},
   "outputs": [
    {
     "name": "stdout",
     "output_type": "stream",
     "text": [
      "2\n",
      "3\n",
      "7\n",
      "11\n",
      "13\n",
      "17\n",
      "19\n",
      "23\n",
      "29\n",
      "31\n",
      "37\n",
      "41\n",
      "43\n",
      "47\n",
      "53\n",
      "59\n",
      "61\n",
      "67\n",
      "71\n",
      "73\n",
      "79\n",
      "83\n",
      "89\n",
      "97\n"
     ]
    }
   ],
   "source": [
    "# HINT::\n",
    "# An else after an if runs if the if didn’t\n",
    "# An else after a for runs if the for didn’t break\n",
    "num_ls = list(range(2,100))\n",
    "for num in num_ls:\n",
    "    if num == 2 or num == 3 or num ==7:\n",
    "        print(num)\n",
    "    elif num % 2 == 0:\n",
    "        continue\n",
    "    elif num % 3 == 0:\n",
    "        continue\n",
    "    elif num % 5 == 0:\n",
    "        continue\n",
    "    elif num % 7 == 0:\n",
    "        continue\n",
    "    else:\n",
    "        print(num)"
   ]
  },
  {
   "cell_type": "code",
   "execution_count": 2,
   "id": "e6c3641e",
   "metadata": {},
   "outputs": [
    {
     "name": "stdout",
     "output_type": "stream",
     "text": [
      "how old are you?7\n",
      "kids\n"
     ]
    }
   ],
   "source": [
    "question = input(\"how old are you?\")\n",
    "age = int(question)\n",
    "if age < 18:\n",
    "    print(\"kids\")\n",
    "elif age < 65:\n",
    "    print(\"adults\")\n",
    "elif age > 65:\n",
    "    print(\"seniors\")\n",
    "else:\n",
    "    print(\"error\")\n",
    "    "
   ]
  }
 ],
 "metadata": {
  "kernelspec": {
   "display_name": "Python 3 (ipykernel)",
   "language": "python",
   "name": "python3"
  },
  "language_info": {
   "codemirror_mode": {
    "name": "ipython",
    "version": 3
   },
   "file_extension": ".py",
   "mimetype": "text/x-python",
   "name": "python",
   "nbconvert_exporter": "python",
   "pygments_lexer": "ipython3",
   "version": "3.9.13"
  }
 },
 "nbformat": 4,
 "nbformat_minor": 5
}
